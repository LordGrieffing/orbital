{
 "cells": [
  {
   "cell_type": "code",
   "execution_count": 6,
   "metadata": {},
   "outputs": [],
   "source": [
    "import math"
   ]
  },
  {
   "cell_type": "code",
   "execution_count": 10,
   "metadata": {},
   "outputs": [],
   "source": [
    "# Gravitational Constant\n",
    "G = 6.674 * 10**-11\n",
    "# Mass of the Earth\n",
    "mE = 5.97219 * 10**24\n",
    "# Mass of the Sattelite\n",
    "mS = 10\n",
    "# Distance from the core of the earth to its surface\n",
    "coreDist = 6377992.206\n",
    "# Distance from surface to orbit\n",
    "surfaceDist = 2000000\n"
   ]
  },
  {
   "cell_type": "code",
   "execution_count": 11,
   "metadata": {},
   "outputs": [],
   "source": [
    "# Sattelite Starting position vecotr\n",
    "Pos = [8377992.206, 0, 0]\n",
    "# Sattelite Starting velocity vector\n",
    "Vel = [0, 7120, 0]\n",
    "\n",
    "# Unit vector temp variable\n",
    "unitV = [0,0,0]"
   ]
  },
  {
   "cell_type": "code",
   "execution_count": 12,
   "metadata": {},
   "outputs": [
    {
     "name": "stdout",
     "output_type": "stream",
     "text": [
      "t: 0 Position: [8377992.206, 7120, 0] Velocity: [-5.6785821674687975, 7120.0, 0.0]\n",
      "t: 1 Position: [8377986.527417833, 14240.0, 0.0] Velocity: [-11.35715818301497, 7119.995174087032, 0.0]\n",
      "t: 2 Position: [8377975.17025965, 21359.99517408703, 0.0] Velocity: [-17.035723440658614, 7119.985522272839, 0.0]\n",
      "t: 3 Position: [8377958.1345362095, 28479.98069635987, 0.0] Velocity: [-22.714273334433216, 7119.971044574367, 0.0]\n",
      "t: 4 Position: [8377935.420262875, 35599.95174093424, 0.0] Velocity: [-28.392803258392874, 7119.951741013759, 0.0]\n",
      "t: 5 Position: [8377907.027459617, 42719.90348194799, 0.0] Velocity: [-34.071308606619525, 7119.927611618363, 0.0]\n",
      "t: 6 Position: [8377872.9561510105, 49839.831093566354, 0.0] Velocity: [-39.74978477323015, 7119.898656420726, 0.0]\n",
      "t: 7 Position: [8377833.206366237, 56959.72974998708, 0.0] Velocity: [-45.42822715238399, 7119.864875458597, 0.0]\n",
      "t: 8 Position: [8377787.778139085, 64079.59462544567, 0.0] Velocity: [-51.106631138289785, 7119.826268774927, 0.0]\n",
      "t: 9 Position: [8377736.671507946, 71199.4208942206, 0.0] Velocity: [-56.78499212521298, 7119.782836417863, 0.0]\n"
     ]
    }
   ],
   "source": [
    "# Calculate the orbit of the sattelite\n",
    "\n",
    "for i in range(10):\n",
    "\n",
    "    # Magnitute of position\n",
    "    MagPos = math.sqrt(Pos[0]**2 + Pos[1]**2 + Pos[2]**2)\n",
    "\n",
    "    # Unit vector of position\n",
    "    for j in range(3):\n",
    "        unitV[j] = Pos[j] / MagPos\n",
    "\n",
    "    # Calculate acceleration due to gravity\n",
    "    a = -(G * mE) / (MagPos**2)\n",
    "\n",
    "    # Calculate New Position vector\n",
    "    for j in range(3):\n",
    "        Pos[j] = Pos[j] + Vel[j]\n",
    "\n",
    "    # Calculate New Velocity vector\n",
    "    for j in range(3):\n",
    "        Vel[j] = Vel[j] + (a * unitV[j])\n",
    "\n",
    "    print(f\"t: {i} Position: {Pos} Velocity: {Vel}\")\n",
    "\n"
   ]
  }
 ],
 "metadata": {
  "kernelspec": {
   "display_name": "Python 3",
   "language": "python",
   "name": "python3"
  },
  "language_info": {
   "codemirror_mode": {
    "name": "ipython",
    "version": 3
   },
   "file_extension": ".py",
   "mimetype": "text/x-python",
   "name": "python",
   "nbconvert_exporter": "python",
   "pygments_lexer": "ipython3",
   "version": "3.10.12"
  }
 },
 "nbformat": 4,
 "nbformat_minor": 2
}
